{
 "cells": [
  {
   "cell_type": "code",
   "execution_count": 1,
   "metadata": {},
   "outputs": [],
   "source": [
    "import pandas             as pd\n",
    "import numpy              as np\n",
    "import matplotlib.pyplot  as plt\n",
    "from plyer import notification \n",
    "from datetime import datetime\n",
    "import requests\n",
    "import os\n",
    "import zipfile"
   ]
  },
  {
   "cell_type": "code",
   "execution_count": 2,
   "metadata": {},
   "outputs": [],
   "source": [
    "def baixar_e_extrair(url, nome_arquivo):\n",
    "  \n",
    "  # Verifica se o arquivo já existe\n",
    "  if os.path.exists(nome_arquivo):\n",
    "    print(f\"O arquivo {nome_arquivo} já existe. Pulando o download.\")\n",
    "    return\n",
    "\n",
    "  # Baixa o arquivo\n",
    "  response = requests.get(url)\n",
    "  response.raise_for_status()\n",
    "\n",
    "  # Salva o arquivo no disco\n",
    "  with open(nome_arquivo, 'wb') as f:\n",
    "    f.write(response.content)\n",
    "\n",
    "  # Extrai o arquivo ZIP\n",
    "  with zipfile.ZipFile(nome_arquivo, 'r') as zip_ref:\n",
    "    zip_ref.extractall()\n",
    "\n",
    "# URL do arquivo ZIP:\n",
    "url = \"https://download.inep.gov.br/microdados/microdados_saeb_2021_ensino_fundamental_e_medio.zip\"  \n",
    "nome_arquivo = \"microdados_saeb_2021_ensino_fundamental_e_medio.zip\"  # Nome do arquivo baixado\n",
    "\n",
    "# Chama a função para baixar e extrair o arquivo\n",
    "baixar_e_extrair(url, nome_arquivo)"
   ]
  }
 ],
 "metadata": {
  "kernelspec": {
   "display_name": "spacy-env",
   "language": "python",
   "name": "python3"
  },
  "language_info": {
   "codemirror_mode": {
    "name": "ipython",
    "version": 3
   },
   "file_extension": ".py",
   "mimetype": "text/x-python",
   "name": "python",
   "nbconvert_exporter": "python",
   "pygments_lexer": "ipython3",
   "version": "3.10.13"
  }
 },
 "nbformat": 4,
 "nbformat_minor": 2
}
