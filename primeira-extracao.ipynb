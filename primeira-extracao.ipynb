{
 "cells": [
  {
   "cell_type": "code",
   "execution_count": 1,
   "metadata": {},
   "outputs": [],
   "source": [
    "import pandas             as pd\n",
    "import numpy              as np\n",
    "import matplotlib.pyplot  as plt\n",
    "from plyer import notification \n",
    "from datetime import datetime\n",
    "import requests"
   ]
  },
  {
   "cell_type": "code",
   "execution_count": 2,
   "metadata": {},
   "outputs": [],
   "source": [
    "def baixar_e_extrair(url, destino_zip='dados.zip'):\n",
    "    response = requests.get(url)\n",
    "    with open(destino_zip, \"wb\") as zip_file:\n",
    "        zip_file.write(response.content)\n",
    "\n",
    "    with open(nome_arquivo_zip, \"wb\") as zip_file:\n",
    "        zip_ref.extractal()"
   ]
  },
  {
   "cell_type": "code",
   "execution_count": null,
   "metadata": {},
   "outputs": [],
   "source": [
    "def alerta(nivel, base, etapa, erro=\"\"):\n",
    "    now = str(datetime.now())\n",
    "    msg = f\"Falha na base {base} durante a etapa: {etapa}.\\nHorário: {now}\\nDetalhes do erro: {erro}\"\n",
    "\n",
    "    if nivel == 1:\n",
    "        title = 'ATENÇÃO: Alerta Baixo'\n",
    "    elif nivel == 2:\n",
    "        title = 'ATENÇÃO: Alerta Médio'\n",
    "    elif nivel == 3:\n",
    "        title = 'ATENÇÃO: Alerta Alto'\n",
    "    else:\n",
    "        print(f\"Nível {nivel} não disponível!\")\n",
    "        return\n",
    "    notification.notify(\n",
    "        title=title,\n",
    "        message=msg,\n",
    "        app_name='Sistema de Alertas',\n",
    "        timeout=10\n",
    "    )\n",
    "\n",
    "    print(f\"[ALERTA] {title}: {msg}\")\n"
   ]
  }
 ],
 "metadata": {
  "kernelspec": {
   "display_name": "spacy-env",
   "language": "python",
   "name": "python3"
  },
  "language_info": {
   "codemirror_mode": {
    "name": "ipython",
    "version": 3
   },
   "file_extension": ".py",
   "mimetype": "text/x-python",
   "name": "python",
   "nbconvert_exporter": "python",
   "pygments_lexer": "ipython3",
   "version": "3.10.13"
  }
 },
 "nbformat": 4,
 "nbformat_minor": 2
}
