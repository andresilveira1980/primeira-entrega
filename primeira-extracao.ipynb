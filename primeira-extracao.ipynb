{
 "cells": [
  {
   "cell_type": "code",
   "execution_count": 1,
   "metadata": {},
   "outputs": [],
   "source": [
    "import pandas             as pd\n",
    "import numpy              as np\n",
    "import matplotlib.pyplot  as plt\n",
    "from plyer import notification \n",
    "from datetime import datetime\n",
    "import requests"
   ]
  },
  {
   "cell_type": "code",
   "execution_count": 20,
   "metadata": {},
   "outputs": [
    {
     "name": "stderr",
     "output_type": "stream",
     "text": [
      "\n",
      "(notify-send:10492): libnotify-WARNING **: 17:57:52.359: Running in confined mode, using Portal notifications. Some features and hints won't be supported\n"
     ]
    },
    {
     "ename": "NameError",
     "evalue": "name 'zip_path' is not defined",
     "output_type": "error",
     "traceback": [
      "\u001b[0;31m---------------------------------------------------------------------------\u001b[0m",
      "\u001b[0;31mNameError\u001b[0m                                 Traceback (most recent call last)",
      "Cell \u001b[0;32mIn[20], line 8\u001b[0m\n\u001b[1;32m      6\u001b[0m \u001b[38;5;66;03m# Execução com tratamento de falhas\u001b[39;00m\n\u001b[1;32m      7\u001b[0m \u001b[38;5;28;01mtry\u001b[39;00m:\n\u001b[0;32m----> 8\u001b[0m     baixar_arquivo(url_zip, \u001b[43mzip_path\u001b[49m)\n\u001b[1;32m      9\u001b[0m \u001b[38;5;28;01mexcept\u001b[39;00m \u001b[38;5;167;01mException\u001b[39;00m \u001b[38;5;28;01mas\u001b[39;00m e:\n\u001b[1;32m     10\u001b[0m     alerta(\u001b[38;5;241m3\u001b[39m, \u001b[38;5;124m\"\u001b[39m\u001b[38;5;124mmicrodados_enem_2023.zip\u001b[39m\u001b[38;5;124m\"\u001b[39m, \u001b[38;5;124m\"\u001b[39m\u001b[38;5;124mdownload\u001b[39m\u001b[38;5;124m\"\u001b[39m, \u001b[38;5;28mstr\u001b[39m(e))\n",
      "\u001b[0;31mNameError\u001b[0m: name 'zip_path' is not defined"
     ]
    }
   ],
   "source": [
    "def baixar_arquivo(url, destino_zip):\n",
    "    response = requests.get(url)\n",
    "    with open(destino_zip, \"wb\") as zip_file:\n",
    "        zip_file.write(response.content)\n",
    "\n",
    "# Execução com tratamento de falhas\n",
    "try:\n",
    "    baixar_arquivo(url_zip, zip_path)\n",
    "except Exception as e:\n",
    "    alerta(3, \"microdados_enem_2023.zip\", \"download\", str(e))\n",
    "    raise\n",
    "\n",
    "try:\n",
    "    extrair_arquivo(zip_path, destino_pasta)\n",
    "except Exception as e:\n",
    "    alerta(3, \"microdados_enem_2023.zip\", \"extração\", str(e))\n",
    "    raise\n",
    "\n",
    "try:\n",
    "    df = carregar_dados_csv(nome_arquivo_csv)\n",
    "except Exception as e:\n",
    "    alerta(3, \"MICRODADOS_ENEM_2023.csv\", \"carregamento\", str(e))\n",
    "    raise\n"
   ]
  },
  {
   "cell_type": "code",
   "execution_count": null,
   "metadata": {},
   "outputs": [],
   "source": [
    "def alerta(nivel, base, etapa, erro=\"\"):\n",
    "    now = str(datetime.now())\n",
    "    msg = f\"Falha na base {base} durante a etapa: {etapa}.\\nHorário: {now}\\nDetalhes do erro: {erro}\"\n",
    "\n",
    "    if nivel == 1:\n",
    "        title = 'ATENÇÃO: Alerta Baixo'\n",
    "    elif nivel == 2:\n",
    "        title = 'ATENÇÃO: Alerta Médio'\n",
    "    elif nivel == 3:\n",
    "        title = 'ATENÇÃO: Alerta Alto'\n",
    "    else:\n",
    "        print(f\"Nível {nivel} não disponível!\")\n",
    "        return\n",
    "    notification.notify(\n",
    "        title=title,\n",
    "        message=msg,\n",
    "        app_name='Sistema de Alertas',\n",
    "        timeout=10\n",
    "    )\n",
    "\n",
    "    print(f\"[ALERTA] {title}: {msg}\")\n"
   ]
  }
 ],
 "metadata": {
  "kernelspec": {
   "display_name": "spacy-env",
   "language": "python",
   "name": "python3"
  },
  "language_info": {
   "codemirror_mode": {
    "name": "ipython",
    "version": 3
   },
   "file_extension": ".py",
   "mimetype": "text/x-python",
   "name": "python",
   "nbconvert_exporter": "python",
   "pygments_lexer": "ipython3",
   "version": "3.10.13"
  }
 },
 "nbformat": 4,
 "nbformat_minor": 2
}
